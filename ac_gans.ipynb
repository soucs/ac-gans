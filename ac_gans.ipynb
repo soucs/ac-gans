{
  "nbformat": 4,
  "nbformat_minor": 0,
  "metadata": {
    "colab": {
      "provenance": [],
      "include_colab_link": true
    },
    "kernelspec": {
      "name": "python3",
      "display_name": "Python 3"
    },
    "language_info": {
      "name": "python"
    }
  },
  "cells": [
    {
      "cell_type": "markdown",
      "metadata": {
        "id": "view-in-github",
        "colab_type": "text"
      },
      "source": [
        "<a href=\"https://colab.research.google.com/github/soucs/ac-gans/blob/main/ac_gans.ipynb\" target=\"_parent\"><img src=\"https://colab.research.google.com/assets/colab-badge.svg\" alt=\"Open In Colab\"/></a>"
      ]
    },
    {
      "cell_type": "code",
      "execution_count": 1,
      "metadata": {
        "id": "RvXiasFHMCz5"
      },
      "outputs": [],
      "source": [
        "import numpy as np\n",
        "\n",
        "import torch\n",
        "from torch import nn\n",
        "from torch.optim import Adam\n",
        "from torch.nn.functional import one_hot\n",
        "from torch.utils.data import DataLoader\n",
        "from torchvision.transforms import ToTensor, Normalize, Compose\n",
        "from torchvision.datasets import CIFAR10"
      ]
    },
    {
      "cell_type": "code",
      "source": [
        "transform = Compose([ToTensor(),\n",
        "                     Normalize((0.5, 0.5, 0.5), (0.5, 0.5, 0.5))\n",
        "                     ])\n",
        "\n",
        "batch_size = 100\n",
        "\n",
        "train = CIFAR10(root='./data', train=True, download=True, transform=transform)\n",
        "test = CIFAR10(root='./data', train=False, download=True, transform=transform)\n",
        "\n",
        "train_dl = DataLoader(train, batch_size, shuffle=True, num_workers=2)\n",
        "test_dl = DataLoader(test, batch_size, shuffle=False, num_workers=2)\n",
        "\n",
        "classes = ('plane', 'car', 'bird', 'cat', 'deer', 'dog', 'frog', 'horse', 'ship', 'truck')"
      ],
      "metadata": {
        "colab": {
          "base_uri": "https://localhost:8080/"
        },
        "id": "nTyfuPSm3v-B",
        "outputId": "9139742d-41f0-470d-cb23-87b6013a1073"
      },
      "execution_count": 2,
      "outputs": [
        {
          "output_type": "stream",
          "name": "stdout",
          "text": [
            "Files already downloaded and verified\n",
            "Files already downloaded and verified\n"
          ]
        }
      ]
    },
    {
      "cell_type": "code",
      "source": [
        "num_classes = 10\n",
        "batch_size = 100\n",
        "latent_size = 100\n",
        "\n",
        "def get_z(classes):\n",
        "  z = torch.randn(batch_size, latent_size)\n",
        "  y = one_hot(classes.reshape(batch_size), num_classes)\n",
        "  z = torch.cat([z, y], dim=1).reshape(-1,110,1,1)\n",
        "  return z"
      ],
      "metadata": {
        "id": "dTpmyI7W32xz"
      },
      "execution_count": 3,
      "outputs": []
    },
    {
      "cell_type": "code",
      "source": [
        "class Discriminator(nn.Module):\n",
        "  def __init__(self):\n",
        "    super(Discriminator, self).__init__()\n",
        "    def discriminator_block(inp, out, stride, bn=True):\n",
        "      block = [nn.Conv2d(inp, out, 3, stride, 1), nn.LeakyReLU(0.2, inplace=True), nn.Dropout2d(0.5)]\n",
        "      if bn:\n",
        "        block.append(nn.BatchNorm2d(out, 0.8))\n",
        "      return block\n",
        "    self.common = nn.Sequential(*discriminator_block(3, 16, 2, bn=False),\n",
        "                                *discriminator_block(16, 32, 1),\n",
        "                                *discriminator_block(32, 64, 2),\n",
        "                                *discriminator_block(64, 128, 1),\n",
        "                                *discriminator_block(128, 256, 2),\n",
        "                                *discriminator_block(256, 512, 1))\n",
        "    self.discrim = nn.Sequential(nn.Linear(512*4*4, 1),\n",
        "                                 nn.Sigmoid())\n",
        "    self.auxil = nn.Sequential(nn.Linear(512*4*4, 10),\n",
        "                               nn.Softmax(dim=1))\n",
        "  def forward(self, input): # input = images (batch_size, 3, 32, 32)\n",
        "    hid_out = self.common(input)\n",
        "    hid_out = hid_out.view(hid_out.size(0), -1)\n",
        "    rf_out = self.discrim(hid_out)\n",
        "    aux_out = self.auxil(hid_out)\n",
        "    return rf_out, aux_out\n",
        "\n",
        "class Generator(nn.Module):\n",
        "  def __init__(self):\n",
        "    super(Generator, self).__init__()\n",
        "    def generator_block(inp, out, nonlin='relu', bn=True):\n",
        "      block = [nn.ConvTranspose2d(inp, out, 5, 2, 1)]\n",
        "      if nonlin == 'tanh':\n",
        "        block.append(nn.Tanh())\n",
        "      else:\n",
        "        block.append(nn.ReLU())\n",
        "      if bn:\n",
        "          block.append(nn.BatchNorm2d(out, 0.8))\n",
        "      return block\n",
        "    self.gen = nn.Sequential(*generator_block(110,384),\n",
        "                             *generator_block(384,192),\n",
        "                             *generator_block(192,96),\n",
        "                             *generator_block(96,3, nonlin='tanh', bn=False),\n",
        "                             nn.UpsamplingBilinear2d((32,32)))\n",
        "  def forward(self, input): # input = classes (batch_size)\n",
        "    z = get_z(input) # z = latent space (batch_size, 110, 1, 1)\n",
        "    fake_img = self.gen(z)\n",
        "    return fake_img"
      ],
      "metadata": {
        "id": "hqCXCqPz-PIq"
      },
      "execution_count": 4,
      "outputs": []
    },
    {
      "cell_type": "code",
      "source": [
        "D = Discriminator()\n",
        "G = Generator()\n",
        "\n",
        "criterion = nn.BCELoss()\n",
        "aux_criterion = nn.CrossEntropyLoss()\n",
        "\n",
        "d_optimizer = Adam(D.parameters(), lr=0.0002)\n",
        "g_optimizer = Adam(G.parameters(), lr=0.0002)\n",
        "\n",
        "def train_discriminator(images,classes):\n",
        "    real_labels = torch.ones(batch_size,1)\n",
        "    fake_labels = torch.zeros(batch_size,1)\n",
        "\n",
        "    rf_out, aux_out = D(images)\n",
        "    d_loss_real = criterion(rf_out, real_labels)\n",
        "    d_loss_rclass = aux_criterion(aux_out, classes)\n",
        "\n",
        "    fake_images = G(classes)\n",
        "    rf_out, aux_out = D(fake_images)\n",
        "    d_loss_fake = criterion(rf_out, fake_labels)\n",
        "    d_loss_fclass = aux_criterion(aux_out, classes)\n",
        "\n",
        "    # Combine losses\n",
        "    Ls = d_loss_real + d_loss_fake\n",
        "    Lc = d_loss_rclass + d_loss_fclass\n",
        "    d_loss = Lc + Ls\n",
        "\n",
        "    reset_grad()\n",
        "    d_loss.backward()\n",
        "    d_optimizer.step()\n",
        "    return d_loss\n",
        "\n",
        "def train_generator(classes):\n",
        "    real_labels = torch.ones(batch_size,1)\n",
        "\n",
        "    fake_images = G(classes)\n",
        "    rf_out, aux_out = D(fake_images)\n",
        "\n",
        "    g_loss_fake = criterion(rf_out, real_labels)\n",
        "    g_loss_fclass = aux_criterion(aux_out, classes)\n",
        "\n",
        "    # Combine losses\n",
        "    g_loss = g_loss_fake + g_loss_fclass\n",
        "\n",
        "    reset_grad()\n",
        "    g_loss.backward()\n",
        "    g_optimizer.step()\n",
        "    return g_loss\n",
        "\n",
        "def reset_grad():\n",
        "  d_optimizer.zero_grad()\n",
        "  g_optimizer.zero_grad()"
      ],
      "metadata": {
        "id": "T8jEZfHjDyep"
      },
      "execution_count": 5,
      "outputs": []
    },
    {
      "cell_type": "code",
      "source": [
        "import os\n",
        "from IPython.display import Image\n",
        "from torchvision.utils import save_image\n",
        "\n",
        "sample_dir = 'samples'\n",
        "if not os.path.exists(sample_dir):\n",
        "    os.makedirs(sample_dir)\n",
        "\n",
        "for i, classes in train_dl:\n",
        "    # sample_vectors = get_z(classes)\n",
        "    break\n",
        "\n",
        "def save_fake_images(index):\n",
        "    fake_images = G(classes)\n",
        "    fake_images = fake_images.reshape(fake_images.size(0), 3, 32, 32)\n",
        "    fake_fname = 'fake_images-{0:0=4d}.png'.format(index)\n",
        "    print('Saving', fake_fname)\n",
        "    save_image(fake_images, os.path.join(sample_dir, fake_fname), nrow=10)\n",
        "\n",
        "# # Before training\n",
        "save_fake_images(0)\n",
        "Image(os.path.join(sample_dir, 'fake_images-0000.png'))"
      ],
      "metadata": {
        "colab": {
          "base_uri": "https://localhost:8080/",
          "height": 376
        },
        "id": "3cZyBU6ODS8C",
        "outputId": "b8ef06cc-c037-4c6a-c6e2-837dda997aaa"
      },
      "execution_count": 6,
      "outputs": [
        {
          "output_type": "stream",
          "name": "stdout",
          "text": [
            "Saving fake_images-0000.png\n"
          ]
        },
        {
          "output_type": "execute_result",
          "data": {
            "image/png": "[encoded data removed]",
            "text/plain": [
              "<IPython.core.display.Image object>"
            ]
          },
          "metadata": {},
          "execution_count": 6
        }
      ]
    },
    {
      "cell_type": "code",
      "source": [
        "num_epochs = 20\n",
        "total_step = len(train_dl)\n",
        "\n",
        "for epoch in range(num_epochs):\n",
        "    for i, (images, classes) in enumerate(train_dl):\n",
        "      if i==20:\n",
        "        break\n",
        "      d_loss = train_discriminator(images, classes)\n",
        "      g_loss = train_generator(classes)\n",
        "    print('Epoch [{}/{}], Step [{}/{}], d_loss: {:.4f}, g_loss: {:.4f}' .format(epoch+1, num_epochs, i+1, total_step, d_loss.item(), g_loss.item()))\n",
        "    save_fake_images(epoch+1)"
      ],
      "metadata": {
        "colab": {
          "base_uri": "https://localhost:8080/"
        },
        "id": "FPYnu7_dnsHr",
        "outputId": "a63dda86-b884-450f-db11-89e7df6b2306"
      },
      "execution_count": null,
      "outputs": [
        {
          "output_type": "stream",
          "name": "stdout",
          "text": [
            "Epoch [1/20], Step [21/500], d_loss: 5.9402, g_loss: 2.9832\n",
            "Saving fake_images-0001.png\n",
            "Epoch [2/20], Step [21/500], d_loss: 5.8714, g_loss: 2.8569\n",
            "Saving fake_images-0002.png\n",
            "Epoch [3/20], Step [21/500], d_loss: 5.8390, g_loss: 3.6500\n",
            "Saving fake_images-0003.png\n",
            "Epoch [4/20], Step [21/500], d_loss: 5.8532, g_loss: 3.4279\n",
            "Saving fake_images-0004.png\n",
            "Epoch [5/20], Step [21/500], d_loss: 5.5706, g_loss: 4.0778\n",
            "Saving fake_images-0005.png\n",
            "Epoch [6/20], Step [21/500], d_loss: 5.6162, g_loss: 4.3935\n",
            "Saving fake_images-0006.png\n",
            "Epoch [7/20], Step [21/500], d_loss: 5.3896, g_loss: 4.1059\n",
            "Saving fake_images-0007.png\n",
            "Epoch [8/20], Step [21/500], d_loss: 5.7138, g_loss: 3.4935\n",
            "Saving fake_images-0008.png\n"
          ]
        }
      ]
    },
    {
      "cell_type": "code",
      "source": [
        "import cv2\n",
        "from IPython.display import FileLink\n",
        "\n",
        "vid_fname = 'gans_training.avi'\n",
        "\n",
        "files = [os.path.join(sample_dir, f) for f in os.listdir(sample_dir) if 'fake_images' in f]\n",
        "files.sort()\n",
        "\n",
        "out = cv2.VideoWriter(vid_fname,cv2.VideoWriter_fourcc(*'MP4V'), 8, (302,302))\n",
        "[out.write(cv2.imread(fname)) for fname in files]\n",
        "out.release()\n",
        "FileLink('gans_training.avi')"
      ],
      "metadata": {
        "id": "9QELRSTpEpYS"
      },
      "execution_count": null,
      "outputs": []
    }
  ]
}